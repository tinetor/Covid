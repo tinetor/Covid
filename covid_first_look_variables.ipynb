{
 "cells": [
  {
   "cell_type": "markdown",
   "metadata": {},
   "source": [
    "Most of the newspapers in the world are using the raw numbers of infected people in each country to make a cross country comparison. However, is it a good measure? To answer this question in this project we will focus on the following questions Does the number of countries with most infected correlates to the number of countries with most infected per million?\n",
    "\n"
   ]
  },
  {
   "cell_type": "code",
   "execution_count": 235,
   "metadata": {},
   "outputs": [],
   "source": [
    "import pandas as pd\n",
    "covid=pd.read_csv('owid-covid-data.csv')\n",
    "import seaborn as sns\n",
    "import matplotlib.pyplot as plt"
   ]
  },
  {
   "cell_type": "markdown",
   "metadata": {},
   "source": [
    "**Checking Data**"
   ]
  },
  {
   "cell_type": "code",
   "execution_count": 236,
   "metadata": {},
   "outputs": [
    {
     "name": "stdout",
     "output_type": "stream",
     "text": [
      "<class 'pandas.core.frame.DataFrame'>\n",
      "RangeIndex: 26119 entries, 0 to 26118\n",
      "Data columns (total 34 columns):\n",
      " #   Column                           Non-Null Count  Dtype  \n",
      "---  ------                           --------------  -----  \n",
      " 0   iso_code                         26055 non-null  object \n",
      " 1   continent                        25877 non-null  object \n",
      " 2   location                         26119 non-null  object \n",
      " 3   date                             26119 non-null  object \n",
      " 4   total_cases                      25904 non-null  float64\n",
      " 5   new_cases                        25904 non-null  float64\n",
      " 6   total_deaths                     25904 non-null  float64\n",
      " 7   new_deaths                       25904 non-null  float64\n",
      " 8   total_cases_per_million          25840 non-null  float64\n",
      " 9   new_cases_per_million            25840 non-null  float64\n",
      " 10  total_deaths_per_million         25840 non-null  float64\n",
      " 11  new_deaths_per_million           25840 non-null  float64\n",
      " 12  total_tests                      7493 non-null   float64\n",
      " 13  new_tests                        6821 non-null   float64\n",
      " 14  total_tests_per_thousand         7493 non-null   float64\n",
      " 15  new_tests_per_thousand           6821 non-null   float64\n",
      " 16  new_tests_smoothed               8098 non-null   float64\n",
      " 17  new_tests_smoothed_per_thousand  8098 non-null   float64\n",
      " 18  tests_units                      8718 non-null   object \n",
      " 19  stringency_index                 21069 non-null  float64\n",
      " 20  population                       26055 non-null  float64\n",
      " 21  population_density               24987 non-null  float64\n",
      " 22  median_age                       23608 non-null  float64\n",
      " 23  aged_65_older                    23275 non-null  float64\n",
      " 24  aged_70_older                    23487 non-null  float64\n",
      " 25  gdp_per_capita                   23343 non-null  float64\n",
      " 26  extreme_poverty                  15601 non-null  float64\n",
      " 27  cvd_death_rate                   23638 non-null  float64\n",
      " 28  diabetes_prevalence              24401 non-null  float64\n",
      " 29  female_smokers                   18963 non-null  float64\n",
      " 30  male_smokers                     18745 non-null  float64\n",
      " 31  handwashing_facilities           10626 non-null  float64\n",
      " 32  hospital_beds_per_thousand       21623 non-null  float64\n",
      " 33  life_expectancy                  25757 non-null  float64\n",
      "dtypes: float64(29), object(5)\n",
      "memory usage: 6.8+ MB\n"
     ]
    },
    {
     "data": {
      "text/html": [
       "<div>\n",
       "<style scoped>\n",
       "    .dataframe tbody tr th:only-of-type {\n",
       "        vertical-align: middle;\n",
       "    }\n",
       "\n",
       "    .dataframe tbody tr th {\n",
       "        vertical-align: top;\n",
       "    }\n",
       "\n",
       "    .dataframe thead th {\n",
       "        text-align: right;\n",
       "    }\n",
       "</style>\n",
       "<table border=\"1\" class=\"dataframe\">\n",
       "  <thead>\n",
       "    <tr style=\"text-align: right;\">\n",
       "      <th></th>\n",
       "      <th>iso_code</th>\n",
       "      <th>continent</th>\n",
       "      <th>location</th>\n",
       "      <th>date</th>\n",
       "      <th>total_cases</th>\n",
       "      <th>new_cases</th>\n",
       "      <th>total_deaths</th>\n",
       "      <th>new_deaths</th>\n",
       "      <th>total_cases_per_million</th>\n",
       "      <th>new_cases_per_million</th>\n",
       "      <th>...</th>\n",
       "      <th>aged_70_older</th>\n",
       "      <th>gdp_per_capita</th>\n",
       "      <th>extreme_poverty</th>\n",
       "      <th>cvd_death_rate</th>\n",
       "      <th>diabetes_prevalence</th>\n",
       "      <th>female_smokers</th>\n",
       "      <th>male_smokers</th>\n",
       "      <th>handwashing_facilities</th>\n",
       "      <th>hospital_beds_per_thousand</th>\n",
       "      <th>life_expectancy</th>\n",
       "    </tr>\n",
       "  </thead>\n",
       "  <tbody>\n",
       "    <tr>\n",
       "      <th>0</th>\n",
       "      <td>AFG</td>\n",
       "      <td>Asia</td>\n",
       "      <td>Afghanistan</td>\n",
       "      <td>2019-12-31</td>\n",
       "      <td>0.0</td>\n",
       "      <td>0.0</td>\n",
       "      <td>0.0</td>\n",
       "      <td>0.0</td>\n",
       "      <td>0.0</td>\n",
       "      <td>0.0</td>\n",
       "      <td>...</td>\n",
       "      <td>1.337</td>\n",
       "      <td>1803.987</td>\n",
       "      <td>NaN</td>\n",
       "      <td>597.029</td>\n",
       "      <td>9.59</td>\n",
       "      <td>NaN</td>\n",
       "      <td>NaN</td>\n",
       "      <td>37.746</td>\n",
       "      <td>0.5</td>\n",
       "      <td>64.83</td>\n",
       "    </tr>\n",
       "    <tr>\n",
       "      <th>1</th>\n",
       "      <td>AFG</td>\n",
       "      <td>Asia</td>\n",
       "      <td>Afghanistan</td>\n",
       "      <td>2020-01-01</td>\n",
       "      <td>0.0</td>\n",
       "      <td>0.0</td>\n",
       "      <td>0.0</td>\n",
       "      <td>0.0</td>\n",
       "      <td>0.0</td>\n",
       "      <td>0.0</td>\n",
       "      <td>...</td>\n",
       "      <td>1.337</td>\n",
       "      <td>1803.987</td>\n",
       "      <td>NaN</td>\n",
       "      <td>597.029</td>\n",
       "      <td>9.59</td>\n",
       "      <td>NaN</td>\n",
       "      <td>NaN</td>\n",
       "      <td>37.746</td>\n",
       "      <td>0.5</td>\n",
       "      <td>64.83</td>\n",
       "    </tr>\n",
       "    <tr>\n",
       "      <th>2</th>\n",
       "      <td>AFG</td>\n",
       "      <td>Asia</td>\n",
       "      <td>Afghanistan</td>\n",
       "      <td>2020-01-02</td>\n",
       "      <td>0.0</td>\n",
       "      <td>0.0</td>\n",
       "      <td>0.0</td>\n",
       "      <td>0.0</td>\n",
       "      <td>0.0</td>\n",
       "      <td>0.0</td>\n",
       "      <td>...</td>\n",
       "      <td>1.337</td>\n",
       "      <td>1803.987</td>\n",
       "      <td>NaN</td>\n",
       "      <td>597.029</td>\n",
       "      <td>9.59</td>\n",
       "      <td>NaN</td>\n",
       "      <td>NaN</td>\n",
       "      <td>37.746</td>\n",
       "      <td>0.5</td>\n",
       "      <td>64.83</td>\n",
       "    </tr>\n",
       "    <tr>\n",
       "      <th>3</th>\n",
       "      <td>AFG</td>\n",
       "      <td>Asia</td>\n",
       "      <td>Afghanistan</td>\n",
       "      <td>2020-01-03</td>\n",
       "      <td>0.0</td>\n",
       "      <td>0.0</td>\n",
       "      <td>0.0</td>\n",
       "      <td>0.0</td>\n",
       "      <td>0.0</td>\n",
       "      <td>0.0</td>\n",
       "      <td>...</td>\n",
       "      <td>1.337</td>\n",
       "      <td>1803.987</td>\n",
       "      <td>NaN</td>\n",
       "      <td>597.029</td>\n",
       "      <td>9.59</td>\n",
       "      <td>NaN</td>\n",
       "      <td>NaN</td>\n",
       "      <td>37.746</td>\n",
       "      <td>0.5</td>\n",
       "      <td>64.83</td>\n",
       "    </tr>\n",
       "    <tr>\n",
       "      <th>4</th>\n",
       "      <td>AFG</td>\n",
       "      <td>Asia</td>\n",
       "      <td>Afghanistan</td>\n",
       "      <td>2020-01-04</td>\n",
       "      <td>0.0</td>\n",
       "      <td>0.0</td>\n",
       "      <td>0.0</td>\n",
       "      <td>0.0</td>\n",
       "      <td>0.0</td>\n",
       "      <td>0.0</td>\n",
       "      <td>...</td>\n",
       "      <td>1.337</td>\n",
       "      <td>1803.987</td>\n",
       "      <td>NaN</td>\n",
       "      <td>597.029</td>\n",
       "      <td>9.59</td>\n",
       "      <td>NaN</td>\n",
       "      <td>NaN</td>\n",
       "      <td>37.746</td>\n",
       "      <td>0.5</td>\n",
       "      <td>64.83</td>\n",
       "    </tr>\n",
       "  </tbody>\n",
       "</table>\n",
       "<p>5 rows × 34 columns</p>\n",
       "</div>"
      ],
      "text/plain": [
       "  iso_code continent     location        date  total_cases  new_cases  \\\n",
       "0      AFG      Asia  Afghanistan  2019-12-31          0.0        0.0   \n",
       "1      AFG      Asia  Afghanistan  2020-01-01          0.0        0.0   \n",
       "2      AFG      Asia  Afghanistan  2020-01-02          0.0        0.0   \n",
       "3      AFG      Asia  Afghanistan  2020-01-03          0.0        0.0   \n",
       "4      AFG      Asia  Afghanistan  2020-01-04          0.0        0.0   \n",
       "\n",
       "   total_deaths  new_deaths  total_cases_per_million  new_cases_per_million  \\\n",
       "0           0.0         0.0                      0.0                    0.0   \n",
       "1           0.0         0.0                      0.0                    0.0   \n",
       "2           0.0         0.0                      0.0                    0.0   \n",
       "3           0.0         0.0                      0.0                    0.0   \n",
       "4           0.0         0.0                      0.0                    0.0   \n",
       "\n",
       "   ...  aged_70_older  gdp_per_capita  extreme_poverty  cvd_death_rate  \\\n",
       "0  ...          1.337        1803.987              NaN         597.029   \n",
       "1  ...          1.337        1803.987              NaN         597.029   \n",
       "2  ...          1.337        1803.987              NaN         597.029   \n",
       "3  ...          1.337        1803.987              NaN         597.029   \n",
       "4  ...          1.337        1803.987              NaN         597.029   \n",
       "\n",
       "   diabetes_prevalence  female_smokers  male_smokers  handwashing_facilities  \\\n",
       "0                 9.59             NaN           NaN                  37.746   \n",
       "1                 9.59             NaN           NaN                  37.746   \n",
       "2                 9.59             NaN           NaN                  37.746   \n",
       "3                 9.59             NaN           NaN                  37.746   \n",
       "4                 9.59             NaN           NaN                  37.746   \n",
       "\n",
       "  hospital_beds_per_thousand  life_expectancy  \n",
       "0                        0.5            64.83  \n",
       "1                        0.5            64.83  \n",
       "2                        0.5            64.83  \n",
       "3                        0.5            64.83  \n",
       "4                        0.5            64.83  \n",
       "\n",
       "[5 rows x 34 columns]"
      ]
     },
     "execution_count": 236,
     "metadata": {},
     "output_type": "execute_result"
    }
   ],
   "source": [
    "covid.info()\n",
    "covid.head()"
   ]
  },
  {
   "cell_type": "code",
   "execution_count": 237,
   "metadata": {
    "scrolled": true
   },
   "outputs": [
    {
     "data": {
      "text/plain": [
       "iso_code                              64\n",
       "continent                            242\n",
       "location                               0\n",
       "date                                   0\n",
       "total_cases                          215\n",
       "new_cases                            215\n",
       "total_deaths                         215\n",
       "new_deaths                           215\n",
       "total_cases_per_million              279\n",
       "new_cases_per_million                279\n",
       "total_deaths_per_million             279\n",
       "new_deaths_per_million               279\n",
       "total_tests                        18626\n",
       "new_tests                          19298\n",
       "total_tests_per_thousand           18626\n",
       "new_tests_per_thousand             19298\n",
       "new_tests_smoothed                 18021\n",
       "new_tests_smoothed_per_thousand    18021\n",
       "tests_units                        17401\n",
       "stringency_index                    5050\n",
       "population                            64\n",
       "population_density                  1132\n",
       "median_age                          2511\n",
       "aged_65_older                       2844\n",
       "aged_70_older                       2632\n",
       "gdp_per_capita                      2776\n",
       "extreme_poverty                    10518\n",
       "cvd_death_rate                      2481\n",
       "diabetes_prevalence                 1718\n",
       "female_smokers                      7156\n",
       "male_smokers                        7374\n",
       "handwashing_facilities             15493\n",
       "hospital_beds_per_thousand          4496\n",
       "life_expectancy                      362\n",
       "dtype: int64"
      ]
     },
     "execution_count": 237,
     "metadata": {},
     "output_type": "execute_result"
    }
   ],
   "source": [
    "covid.isnull().sum()"
   ]
  },
  {
   "cell_type": "markdown",
   "metadata": {},
   "source": [
    "After a brief check on the variables we don't have any clear problem with the data, there is no missing country name or date. For the variables about the number of cases, it is expected to have missing values because it considers when the first case occurred in each country."
   ]
  },
  {
   "cell_type": "markdown",
   "metadata": {},
   "source": [
    "To answer our question about total cases vs total caser per million we need to have a look on the last day. So we will check if is there is missing data for the last day of the event later on"
   ]
  },
  {
   "cell_type": "code",
   "execution_count": 238,
   "metadata": {},
   "outputs": [
    {
     "data": {
      "text/plain": [
       "'2020-06-25'"
      ]
     },
     "execution_count": 238,
     "metadata": {},
     "output_type": "execute_result"
    }
   ],
   "source": [
    "covid.date.max()# select the last day of the database"
   ]
  },
  {
   "cell_type": "code",
   "execution_count": 249,
   "metadata": {},
   "outputs": [
    {
     "data": {
      "text/plain": [
       "0"
      ]
     },
     "execution_count": 249,
     "metadata": {},
     "output_type": "execute_result"
    }
   ],
   "source": [
    "covid.duplicated().sum()# sum of duplicated values"
   ]
  },
  {
   "cell_type": "markdown",
   "metadata": {},
   "source": [
    "Now we need to check is there is missing data for the last day because that's the data that matters for our analysis"
   ]
  },
  {
   "cell_type": "code",
   "execution_count": 240,
   "metadata": {
    "scrolled": true
   },
   "outputs": [
    {
     "data": {
      "text/plain": [
       "iso_code                             0\n",
       "continent                            0\n",
       "location                             0\n",
       "date                                 0\n",
       "total_cases                          0\n",
       "new_cases                            0\n",
       "total_deaths                         0\n",
       "new_deaths                           0\n",
       "total_cases_per_million              0\n",
       "new_cases_per_million                0\n",
       "total_deaths_per_million             0\n",
       "new_deaths_per_million               0\n",
       "total_tests                        153\n",
       "new_tests                          157\n",
       "total_tests_per_thousand           153\n",
       "new_tests_per_thousand             157\n",
       "new_tests_smoothed                 149\n",
       "new_tests_smoothed_per_thousand    149\n",
       "tests_units                        149\n",
       "stringency_index                   178\n",
       "population                           0\n",
       "population_density                  11\n",
       "median_age                          24\n",
       "aged_65_older                       27\n",
       "aged_70_older                       25\n",
       "gdp_per_capita                      27\n",
       "extreme_poverty                     88\n",
       "cvd_death_rate                      24\n",
       "diabetes_prevalence                 17\n",
       "female_smokers                      69\n",
       "male_smokers                        71\n",
       "handwashing_facilities             118\n",
       "hospital_beds_per_thousand          45\n",
       "life_expectancy                      3\n",
       "dtype: int64"
      ]
     },
     "execution_count": 240,
     "metadata": {},
     "output_type": "execute_result"
    }
   ],
   "source": [
    "#selecting last day\n",
    "covid_last_day=covid[(covid['date']=='2020-06-24') & (covid['location']!='World')]\n",
    "covid_last_day.isnull().sum()\n"
   ]
  },
  {
   "cell_type": "code",
   "execution_count": 241,
   "metadata": {},
   "outputs": [
    {
     "data": {
      "text/html": [
       "<div>\n",
       "<style scoped>\n",
       "    .dataframe tbody tr th:only-of-type {\n",
       "        vertical-align: middle;\n",
       "    }\n",
       "\n",
       "    .dataframe tbody tr th {\n",
       "        vertical-align: top;\n",
       "    }\n",
       "\n",
       "    .dataframe thead th {\n",
       "        text-align: right;\n",
       "    }\n",
       "</style>\n",
       "<table border=\"1\" class=\"dataframe\">\n",
       "  <thead>\n",
       "    <tr style=\"text-align: right;\">\n",
       "      <th></th>\n",
       "      <th>iso_code</th>\n",
       "      <th>continent</th>\n",
       "      <th>location</th>\n",
       "      <th>date</th>\n",
       "      <th>total_cases</th>\n",
       "      <th>new_cases</th>\n",
       "      <th>total_deaths</th>\n",
       "      <th>new_deaths</th>\n",
       "      <th>total_cases_per_million</th>\n",
       "      <th>new_cases_per_million</th>\n",
       "      <th>...</th>\n",
       "      <th>aged_70_older</th>\n",
       "      <th>gdp_per_capita</th>\n",
       "      <th>extreme_poverty</th>\n",
       "      <th>cvd_death_rate</th>\n",
       "      <th>diabetes_prevalence</th>\n",
       "      <th>female_smokers</th>\n",
       "      <th>male_smokers</th>\n",
       "      <th>handwashing_facilities</th>\n",
       "      <th>hospital_beds_per_thousand</th>\n",
       "      <th>life_expectancy</th>\n",
       "    </tr>\n",
       "  </thead>\n",
       "  <tbody>\n",
       "    <tr>\n",
       "      <th>166</th>\n",
       "      <td>AFG</td>\n",
       "      <td>Asia</td>\n",
       "      <td>Afghanistan</td>\n",
       "      <td>2020-06-24</td>\n",
       "      <td>29481.0</td>\n",
       "      <td>338.0</td>\n",
       "      <td>618.0</td>\n",
       "      <td>20.0</td>\n",
       "      <td>757.315</td>\n",
       "      <td>8.683</td>\n",
       "      <td>...</td>\n",
       "      <td>1.337</td>\n",
       "      <td>1803.987</td>\n",
       "      <td>NaN</td>\n",
       "      <td>597.029</td>\n",
       "      <td>9.59</td>\n",
       "      <td>NaN</td>\n",
       "      <td>NaN</td>\n",
       "      <td>37.746</td>\n",
       "      <td>0.50</td>\n",
       "      <td>64.83</td>\n",
       "    </tr>\n",
       "    <tr>\n",
       "      <th>275</th>\n",
       "      <td>ALB</td>\n",
       "      <td>Europe</td>\n",
       "      <td>Albania</td>\n",
       "      <td>2020-06-24</td>\n",
       "      <td>2047.0</td>\n",
       "      <td>52.0</td>\n",
       "      <td>45.0</td>\n",
       "      <td>1.0</td>\n",
       "      <td>711.307</td>\n",
       "      <td>18.069</td>\n",
       "      <td>...</td>\n",
       "      <td>8.643</td>\n",
       "      <td>11803.431</td>\n",
       "      <td>1.1</td>\n",
       "      <td>304.195</td>\n",
       "      <td>10.08</td>\n",
       "      <td>7.1</td>\n",
       "      <td>51.2</td>\n",
       "      <td>NaN</td>\n",
       "      <td>2.89</td>\n",
       "      <td>78.57</td>\n",
       "    </tr>\n",
       "    <tr>\n",
       "      <th>448</th>\n",
       "      <td>DZA</td>\n",
       "      <td>Africa</td>\n",
       "      <td>Algeria</td>\n",
       "      <td>2020-06-24</td>\n",
       "      <td>12076.0</td>\n",
       "      <td>156.0</td>\n",
       "      <td>861.0</td>\n",
       "      <td>9.0</td>\n",
       "      <td>275.387</td>\n",
       "      <td>3.557</td>\n",
       "      <td>...</td>\n",
       "      <td>3.857</td>\n",
       "      <td>13913.839</td>\n",
       "      <td>0.5</td>\n",
       "      <td>278.364</td>\n",
       "      <td>6.73</td>\n",
       "      <td>0.7</td>\n",
       "      <td>30.4</td>\n",
       "      <td>83.741</td>\n",
       "      <td>1.90</td>\n",
       "      <td>76.88</td>\n",
       "    </tr>\n",
       "    <tr>\n",
       "      <th>552</th>\n",
       "      <td>AND</td>\n",
       "      <td>Europe</td>\n",
       "      <td>Andorra</td>\n",
       "      <td>2020-06-24</td>\n",
       "      <td>855.0</td>\n",
       "      <td>0.0</td>\n",
       "      <td>52.0</td>\n",
       "      <td>0.0</td>\n",
       "      <td>11065.812</td>\n",
       "      <td>0.000</td>\n",
       "      <td>...</td>\n",
       "      <td>NaN</td>\n",
       "      <td>NaN</td>\n",
       "      <td>NaN</td>\n",
       "      <td>109.135</td>\n",
       "      <td>7.97</td>\n",
       "      <td>29.0</td>\n",
       "      <td>37.8</td>\n",
       "      <td>NaN</td>\n",
       "      <td>NaN</td>\n",
       "      <td>83.73</td>\n",
       "    </tr>\n",
       "    <tr>\n",
       "      <th>648</th>\n",
       "      <td>AGO</td>\n",
       "      <td>Africa</td>\n",
       "      <td>Angola</td>\n",
       "      <td>2020-06-24</td>\n",
       "      <td>186.0</td>\n",
       "      <td>3.0</td>\n",
       "      <td>10.0</td>\n",
       "      <td>1.0</td>\n",
       "      <td>5.659</td>\n",
       "      <td>0.091</td>\n",
       "      <td>...</td>\n",
       "      <td>1.362</td>\n",
       "      <td>5819.495</td>\n",
       "      <td>NaN</td>\n",
       "      <td>276.045</td>\n",
       "      <td>3.94</td>\n",
       "      <td>NaN</td>\n",
       "      <td>NaN</td>\n",
       "      <td>26.664</td>\n",
       "      <td>NaN</td>\n",
       "      <td>61.15</td>\n",
       "    </tr>\n",
       "  </tbody>\n",
       "</table>\n",
       "<p>5 rows × 34 columns</p>\n",
       "</div>"
      ],
      "text/plain": [
       "    iso_code continent     location        date  total_cases  new_cases  \\\n",
       "166      AFG      Asia  Afghanistan  2020-06-24      29481.0      338.0   \n",
       "275      ALB    Europe      Albania  2020-06-24       2047.0       52.0   \n",
       "448      DZA    Africa      Algeria  2020-06-24      12076.0      156.0   \n",
       "552      AND    Europe      Andorra  2020-06-24        855.0        0.0   \n",
       "648      AGO    Africa       Angola  2020-06-24        186.0        3.0   \n",
       "\n",
       "     total_deaths  new_deaths  total_cases_per_million  new_cases_per_million  \\\n",
       "166         618.0        20.0                  757.315                  8.683   \n",
       "275          45.0         1.0                  711.307                 18.069   \n",
       "448         861.0         9.0                  275.387                  3.557   \n",
       "552          52.0         0.0                11065.812                  0.000   \n",
       "648          10.0         1.0                    5.659                  0.091   \n",
       "\n",
       "     ...  aged_70_older  gdp_per_capita  extreme_poverty  cvd_death_rate  \\\n",
       "166  ...          1.337        1803.987              NaN         597.029   \n",
       "275  ...          8.643       11803.431              1.1         304.195   \n",
       "448  ...          3.857       13913.839              0.5         278.364   \n",
       "552  ...            NaN             NaN              NaN         109.135   \n",
       "648  ...          1.362        5819.495              NaN         276.045   \n",
       "\n",
       "     diabetes_prevalence  female_smokers  male_smokers  \\\n",
       "166                 9.59             NaN           NaN   \n",
       "275                10.08             7.1          51.2   \n",
       "448                 6.73             0.7          30.4   \n",
       "552                 7.97            29.0          37.8   \n",
       "648                 3.94             NaN           NaN   \n",
       "\n",
       "     handwashing_facilities hospital_beds_per_thousand  life_expectancy  \n",
       "166                  37.746                       0.50            64.83  \n",
       "275                     NaN                       2.89            78.57  \n",
       "448                  83.741                       1.90            76.88  \n",
       "552                     NaN                        NaN            83.73  \n",
       "648                  26.664                        NaN            61.15  \n",
       "\n",
       "[5 rows x 34 columns]"
      ]
     },
     "execution_count": 241,
     "metadata": {},
     "output_type": "execute_result"
    }
   ],
   "source": [
    "covid_last_day.head()"
   ]
  },
  {
   "cell_type": "markdown",
   "metadata": {},
   "source": [
    "We don't have any duplicated values, so our data is ready for our first analysis."
   ]
  },
  {
   "cell_type": "markdown",
   "metadata": {},
   "source": [
    "**Analysis**"
   ]
  },
  {
   "cell_type": "markdown",
   "metadata": {},
   "source": [
    "In this analysis we only are going to consider one day before the last day of our database 2020-06-24"
   ]
  },
  {
   "cell_type": "code",
   "execution_count": 242,
   "metadata": {},
   "outputs": [],
   "source": [
    "#Function to sort according to the parameter and make a graph of the top 10\n",
    "def ranking(parameter):# take the column as parameter\n",
    "    result=covid_last_day.sort_values(by=parameter,ascending=False) #sort the values \n",
    "    result=result.iloc[0:11]#select first 10\n",
    "    sns.barplot(y=result['location'],x=result[parameter],orient='h')#plot the barplot  \n",
    "    "
   ]
  },
  {
   "cell_type": "code",
   "execution_count": 243,
   "metadata": {},
   "outputs": [
    {
     "data": {
      "image/png": "[encoded data removed]",
      "text/plain": [
       "<Figure size 432x288 with 1 Axes>"
      ]
     },
     "metadata": {
      "needs_background": "light"
     },
     "output_type": "display_data"
    }
   ],
   "source": [
    "ranking('total_cases')"
   ]
  },
  {
   "cell_type": "markdown",
   "metadata": {},
   "source": [
    "That's the most common representation worldwide, considering the raw number of infected people, but does it reflect the reality? can we make a cross country comparison based on raw numbers? Does it not lead to bias?"
   ]
  },
  {
   "cell_type": "markdown",
   "metadata": {},
   "source": [
    "Countries around the world have many differences among them. One of the main ones is the population size. So, why not to check considering the population size? In our database, we have the number of cases per million. Let's check it."
   ]
  },
  {
   "cell_type": "code",
   "execution_count": 244,
   "metadata": {},
   "outputs": [
    {
     "data": {
      "image/png": "[encoded data removed]",
      "text/plain": [
       "<Figure size 432x288 with 1 Axes>"
      ]
     },
     "metadata": {
      "needs_background": "light"
     },
     "output_type": "display_data"
    }
   ],
   "source": [
    "ranking('total_cases_per_million')\n"
   ]
  },
  {
   "cell_type": "markdown",
   "metadata": {},
   "source": [
    "Now we see that using Total cases and Total cases per million we have a  different ranking. However, countries that are in both graphics are more likely to be in a worse situation e.g Chile and the United States\n",
    "\n",
    "At first, sight, considering the number per million seems to be a good indicator, but we need further analysis to confirm it. So let's try to think of some variables that could affect this variable. A good candidate could the number of people tested. Because a population might have many infected people who do not know it. So it is worth to compare the number of tests.s"
   ]
  },
  {
   "cell_type": "code",
   "execution_count": 245,
   "metadata": {},
   "outputs": [
    {
     "data": {
      "image/png": "[encoded data removed]",
      "text/plain": [
       "<Figure size 432x288 with 1 Axes>"
      ]
     },
     "metadata": {
      "needs_background": "light"
     },
     "output_type": "display_data"
    }
   ],
   "source": [
    "ranking('total_tests')\n"
   ]
  },
  {
   "cell_type": "markdown",
   "metadata": {},
   "source": [
    "We can see that from the countries which most tested, in raw numbers only The United states appears on the Top 10 of the raw number of total cases and total cases per million. However, testing not considering population size leads us to another bias. so Let's check the number of tests per thousand"
   ]
  },
  {
   "cell_type": "code",
   "execution_count": 246,
   "metadata": {},
   "outputs": [
    {
     "data": {
      "image/png": "[encoded data removed]",
      "text/plain": [
       "<Figure size 432x288 with 1 Axes>"
      ]
     },
     "metadata": {
      "needs_background": "light"
     },
     "output_type": "display_data"
    }
   ],
   "source": [
    "ranking('total_tests_per_thousand')"
   ]
  },
  {
   "cell_type": "markdown",
   "metadata": {},
   "source": [
    "I don't have an Epidemiology education, so my comments are here limited to what the data tells. So the first thing is that most of the countries that are on the top 10 rankings of testing per thousand are not on the graphs of total cases and total cases per million. So there is might be a correlation that we are going to check later. "
   ]
  },
  {
   "cell_type": "markdown",
   "metadata": {},
   "source": []
  }
 ],
 "metadata": {
  "kernelspec": {
   "display_name": "Python 3",
   "language": "python",
   "name": "python3"
  },
  "language_info": {
   "codemirror_mode": {
    "name": "ipython",
    "version": 3
   },
   "file_extension": ".py",
   "mimetype": "text/x-python",
   "name": "python",
   "nbconvert_exporter": "python",
   "pygments_lexer": "ipython3",
   "version": "3.7.6"
  }
 },
 "nbformat": 4,
 "nbformat_minor": 4
}
